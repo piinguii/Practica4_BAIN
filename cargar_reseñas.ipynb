{
 "cells": [
  {
   "cell_type": "code",
   "execution_count": 1,
   "metadata": {},
   "outputs": [
    {
     "name": "stderr",
     "output_type": "stream",
     "text": [
      "c:\\Users\\claud\\AppData\\Local\\Programs\\Python\\Python312\\Lib\\site-packages\\tqdm\\auto.py:21: TqdmWarning: IProgress not found. Please update jupyter and ipywidgets. See https://ipywidgets.readthedocs.io/en/stable/user_install.html\n",
      "  from .autonotebook import tqdm as notebook_tqdm\n",
      "c:\\Users\\claud\\AppData\\Local\\Programs\\Python\\Python312\\Lib\\site-packages\\huggingface_hub\\file_download.py:143: UserWarning: `huggingface_hub` cache-system uses symlinks by default to efficiently store duplicated files but your machine does not support them in C:\\Users\\claud\\.cache\\huggingface\\hub\\datasets--amazon_polarity. Caching files will still work but in a degraded version that might require more space on your disk. This warning can be disabled by setting the `HF_HUB_DISABLE_SYMLINKS_WARNING` environment variable. For more details, see https://huggingface.co/docs/huggingface_hub/how-to-cache#limitations.\n",
      "To support symlinks on Windows, you either need to activate Developer Mode or to run Python as an administrator. In order to activate developer mode, see this article: https://docs.microsoft.com/en-us/windows/apps/get-started/enable-your-device-for-development\n",
      "  warnings.warn(message)\n",
      "Generating train split: 100%|██████████| 3600000/3600000 [00:02<00:00, 1451328.82 examples/s]\n",
      "Generating test split: 100%|██████████| 400000/400000 [00:00<00:00, 1373124.20 examples/s]"
     ]
    },
    {
     "name": "stdout",
     "output_type": "stream",
     "text": [
      "✔ Reseñas guardadas en input/reseñas.csv\n"
     ]
    },
    {
     "name": "stderr",
     "output_type": "stream",
     "text": [
      "\n"
     ]
    }
   ],
   "source": [
    "#pip install datasets\n",
    "\n",
    "from datasets import load_dataset\n",
    "import pandas as pd\n",
    "import os\n",
    "\n",
    "# Cargar las primeras 15 reseñas\n",
    "dataset = load_dataset(\"amazon_polarity\", split=\"test[:15]\")\n",
    "df = pd.DataFrame(dataset)[['content', 'label']]\n",
    "df = df.rename(columns={\"content\": \"texto\", \"label\": \"etiqueta\"})\n",
    "df[\"etiqueta\"] = df[\"etiqueta\"].map({0: \"negativo\", 1: \"positivo\"})\n",
    "\n",
    "# Crear carpeta si no existe\n",
    "os.makedirs(\"input\", exist_ok=True)\n",
    "\n",
    "# Guardar en CSV\n",
    "df.to_csv(\"input/reseñas.csv\", index=False)\n",
    "print(\"✔ Reseñas guardadas en input/reseñas.csv\")\n"
   ]
  }
 ],
 "metadata": {
  "kernelspec": {
   "display_name": "Python 3",
   "language": "python",
   "name": "python3"
  },
  "language_info": {
   "codemirror_mode": {
    "name": "ipython",
    "version": 3
   },
   "file_extension": ".py",
   "mimetype": "text/x-python",
   "name": "python",
   "nbconvert_exporter": "python",
   "pygments_lexer": "ipython3",
   "version": "3.12.6"
  }
 },
 "nbformat": 4,
 "nbformat_minor": 2
}
