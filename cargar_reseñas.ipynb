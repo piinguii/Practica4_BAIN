{
 "cells": [
  {
   "cell_type": "code",
   "execution_count": 2,
   "metadata": {},
   "outputs": [
    {
     "name": "stdout",
     "output_type": "stream",
     "text": [
      "Reseñas guardadas en input/reseñas.csv\n"
     ]
    }
   ],
   "source": [
    "#pip install datasets\n",
    "\n",
    "from datasets import load_dataset\n",
    "import pandas as pd\n",
    "import os\n",
    "\n",
    "# Cargar las primeras 15 reseñas\n",
    "dataset = load_dataset(\"amazon_polarity\", split=\"test[:15]\")\n",
    "df = pd.DataFrame(dataset)[['content', 'label']]\n",
    "df = df.rename(columns={\"content\": \"texto\", \"label\": \"etiqueta\"})\n",
    "df[\"etiqueta\"] = df[\"etiqueta\"].map({0: \"negativo\", 1: \"positivo\"})\n",
    "\n",
    "# Crear carpeta si no existe\n",
    "os.makedirs(\"input\", exist_ok=True)\n",
    "\n",
    "# Guardar en CSV\n",
    "df.to_csv(\"input/reseñas.csv\", index=False)\n",
    "print(\"Reseñas guardadas en input/reseñas.csv\")\n"
   ]
  }
 ],
 "metadata": {
  "kernelspec": {
   "display_name": "Python 3",
   "language": "python",
   "name": "python3"
  },
  "language_info": {
   "codemirror_mode": {
    "name": "ipython",
    "version": 3
   },
   "file_extension": ".py",
   "mimetype": "text/x-python",
   "name": "python",
   "nbconvert_exporter": "python",
   "pygments_lexer": "ipython3",
   "version": "3.12.6"
  }
 },
 "nbformat": 4,
 "nbformat_minor": 2
}
