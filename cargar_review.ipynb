{
 "cells": [
  {
   "cell_type": "code",
   "execution_count": 1,
   "metadata": {},
   "outputs": [
    {
     "name": "stdout",
     "output_type": "stream",
     "text": [
      "Defaulting to user installation because normal site-packages is not writeable\n",
      "Requirement already satisfied: datasets in /Users/olivia/Library/Python/3.9/lib/python/site-packages (3.6.0)\n",
      "Requirement already satisfied: xxhash in /Users/olivia/Library/Python/3.9/lib/python/site-packages (from datasets) (3.5.0)\n",
      "Requirement already satisfied: requests>=2.32.2 in /Users/olivia/Library/Python/3.9/lib/python/site-packages (from datasets) (2.32.3)\n",
      "Requirement already satisfied: pyyaml>=5.1 in /Users/olivia/Library/Python/3.9/lib/python/site-packages (from datasets) (6.0.2)\n",
      "Requirement already satisfied: dill<0.3.9,>=0.3.0 in /Users/olivia/Library/Python/3.9/lib/python/site-packages (from datasets) (0.3.8)\n",
      "Requirement already satisfied: packaging in /Users/olivia/Library/Python/3.9/lib/python/site-packages (from datasets) (25.0)\n",
      "Requirement already satisfied: huggingface-hub>=0.24.0 in /Users/olivia/Library/Python/3.9/lib/python/site-packages (from datasets) (0.31.1)\n",
      "Requirement already satisfied: filelock in /Users/olivia/Library/Python/3.9/lib/python/site-packages (from datasets) (3.18.0)\n",
      "Requirement already satisfied: tqdm>=4.66.3 in /Users/olivia/Library/Python/3.9/lib/python/site-packages (from datasets) (4.67.1)\n",
      "Requirement already satisfied: multiprocess<0.70.17 in /Users/olivia/Library/Python/3.9/lib/python/site-packages (from datasets) (0.70.16)\n",
      "Requirement already satisfied: numpy>=1.17 in /Users/olivia/Library/Python/3.9/lib/python/site-packages (from datasets) (2.0.2)\n",
      "Requirement already satisfied: fsspec[http]<=2025.3.0,>=2023.1.0 in /Users/olivia/Library/Python/3.9/lib/python/site-packages (from datasets) (2025.3.0)\n",
      "Requirement already satisfied: pyarrow>=15.0.0 in /Users/olivia/Library/Python/3.9/lib/python/site-packages (from datasets) (20.0.0)\n",
      "Requirement already satisfied: pandas in /Users/olivia/Library/Python/3.9/lib/python/site-packages (from datasets) (2.2.3)\n",
      "Requirement already satisfied: aiohttp!=4.0.0a0,!=4.0.0a1 in /Users/olivia/Library/Python/3.9/lib/python/site-packages (from fsspec[http]<=2025.3.0,>=2023.1.0->datasets) (3.11.18)\n",
      "Requirement already satisfied: async-timeout<6.0,>=4.0 in /Users/olivia/Library/Python/3.9/lib/python/site-packages (from aiohttp!=4.0.0a0,!=4.0.0a1->fsspec[http]<=2025.3.0,>=2023.1.0->datasets) (5.0.1)\n",
      "Requirement already satisfied: multidict<7.0,>=4.5 in /Users/olivia/Library/Python/3.9/lib/python/site-packages (from aiohttp!=4.0.0a0,!=4.0.0a1->fsspec[http]<=2025.3.0,>=2023.1.0->datasets) (6.4.3)\n",
      "Requirement already satisfied: propcache>=0.2.0 in /Users/olivia/Library/Python/3.9/lib/python/site-packages (from aiohttp!=4.0.0a0,!=4.0.0a1->fsspec[http]<=2025.3.0,>=2023.1.0->datasets) (0.3.1)\n",
      "Requirement already satisfied: yarl<2.0,>=1.17.0 in /Users/olivia/Library/Python/3.9/lib/python/site-packages (from aiohttp!=4.0.0a0,!=4.0.0a1->fsspec[http]<=2025.3.0,>=2023.1.0->datasets) (1.20.0)\n",
      "Requirement already satisfied: frozenlist>=1.1.1 in /Users/olivia/Library/Python/3.9/lib/python/site-packages (from aiohttp!=4.0.0a0,!=4.0.0a1->fsspec[http]<=2025.3.0,>=2023.1.0->datasets) (1.6.0)\n",
      "Requirement already satisfied: aiosignal>=1.1.2 in /Users/olivia/Library/Python/3.9/lib/python/site-packages (from aiohttp!=4.0.0a0,!=4.0.0a1->fsspec[http]<=2025.3.0,>=2023.1.0->datasets) (1.3.2)\n",
      "Requirement already satisfied: attrs>=17.3.0 in /Users/olivia/Library/Python/3.9/lib/python/site-packages (from aiohttp!=4.0.0a0,!=4.0.0a1->fsspec[http]<=2025.3.0,>=2023.1.0->datasets) (25.3.0)\n",
      "Requirement already satisfied: aiohappyeyeballs>=2.3.0 in /Users/olivia/Library/Python/3.9/lib/python/site-packages (from aiohttp!=4.0.0a0,!=4.0.0a1->fsspec[http]<=2025.3.0,>=2023.1.0->datasets) (2.6.1)\n",
      "Requirement already satisfied: hf-xet<2.0.0,>=1.1.0 in /Users/olivia/Library/Python/3.9/lib/python/site-packages (from huggingface-hub>=0.24.0->datasets) (1.1.0)\n",
      "Requirement already satisfied: typing-extensions>=3.7.4.3 in /Users/olivia/Library/Python/3.9/lib/python/site-packages (from huggingface-hub>=0.24.0->datasets) (4.13.2)\n",
      "Requirement already satisfied: idna<4,>=2.5 in /Users/olivia/Library/Python/3.9/lib/python/site-packages (from requests>=2.32.2->datasets) (3.10)\n",
      "Requirement already satisfied: charset-normalizer<4,>=2 in /Users/olivia/Library/Python/3.9/lib/python/site-packages (from requests>=2.32.2->datasets) (3.4.2)\n",
      "Requirement already satisfied: urllib3<3,>=1.21.1 in /Users/olivia/Library/Python/3.9/lib/python/site-packages (from requests>=2.32.2->datasets) (2.4.0)\n",
      "Requirement already satisfied: certifi>=2017.4.17 in /Users/olivia/Library/Python/3.9/lib/python/site-packages (from requests>=2.32.2->datasets) (2025.4.26)\n",
      "Requirement already satisfied: pytz>=2020.1 in /Users/olivia/Library/Python/3.9/lib/python/site-packages (from pandas->datasets) (2025.2)\n",
      "Requirement already satisfied: python-dateutil>=2.8.2 in /Users/olivia/Library/Python/3.9/lib/python/site-packages (from pandas->datasets) (2.9.0.post0)\n",
      "Requirement already satisfied: tzdata>=2022.7 in /Users/olivia/Library/Python/3.9/lib/python/site-packages (from pandas->datasets) (2025.2)\n",
      "Requirement already satisfied: six>=1.5 in /Applications/Xcode.app/Contents/Developer/Library/Frameworks/Python3.framework/Versions/3.9/lib/python3.9/site-packages (from python-dateutil>=2.8.2->pandas->datasets) (1.15.0)\n",
      "\u001b[33mWARNING: You are using pip version 21.2.4; however, version 25.1.1 is available.\n",
      "You should consider upgrading via the '/Applications/Xcode.app/Contents/Developer/usr/bin/python3 -m pip install --upgrade pip' command.\u001b[0m\n",
      "Note: you may need to restart the kernel to use updated packages.\n"
     ]
    }
   ],
   "source": [
    "%pip install datasets"
   ]
  },
  {
   "cell_type": "code",
   "execution_count": 2,
   "metadata": {},
   "outputs": [
    {
     "name": "stderr",
     "output_type": "stream",
     "text": [
      "/Users/olivia/Library/Python/3.9/lib/python/site-packages/urllib3/__init__.py:35: NotOpenSSLWarning: urllib3 v2 only supports OpenSSL 1.1.1+, currently the 'ssl' module is compiled with 'LibreSSL 2.8.3'. See: https://github.com/urllib3/urllib3/issues/3020\n",
      "  warnings.warn(\n",
      "/Users/olivia/Library/Python/3.9/lib/python/site-packages/tqdm/auto.py:21: TqdmWarning: IProgress not found. Please update jupyter and ipywidgets. See https://ipywidgets.readthedocs.io/en/stable/user_install.html\n",
      "  from .autonotebook import tqdm as notebook_tqdm\n"
     ]
    },
    {
     "name": "stdout",
     "output_type": "stream",
     "text": [
      "Reseñas guardadas en input/reseñas.csv\n"
     ]
    }
   ],
   "source": [
    "#pip install datasets\n",
    "\n",
    "from datasets import load_dataset\n",
    "import pandas as pd\n",
    "import os\n",
    "\n",
    "# Cargar las primeras 15 reseñas\n",
    "dataset = load_dataset(\"amazon_polarity\", split=\"test[:20]\")\n",
    "df = pd.DataFrame(dataset)[['content', 'label']]\n",
    "df = df.rename(columns={\"content\": \"texto\", \"label\": \"etiqueta\"})\n",
    "df[\"etiqueta\"] = df[\"etiqueta\"].map({0: \"negativo\", 1: \"positivo\"})\n",
    "\n",
    "# Crear carpeta si no existe\n",
    "os.makedirs(\"input\", exist_ok=True)\n",
    "\n",
    "# Guardar en CSV\n",
    "df.to_csv(\"input/yelp_review.csv\", index=False)\n",
    "print(\"Reseñas guardadas en input/reseñas.csv\")\n"
   ]
  },
  {
   "cell_type": "code",
   "execution_count": 3,
   "metadata": {},
   "outputs": [
    {
     "name": "stderr",
     "output_type": "stream",
     "text": [
      "Generating train split: 100%|██████████| 650000/650000 [00:00<00:00, 1997283.23 examples/s]\n",
      "Generating test split: 100%|██████████| 50000/50000 [00:00<00:00, 2086386.25 examples/s]"
     ]
    },
    {
     "name": "stdout",
     "output_type": "stream",
     "text": [
      "                                               texto  estrellas  etiqueta\n",
      "0  dr. goldberg offers everything i look for in a...          5  positive\n",
      "1  Unfortunately, the frustration of being Dr. Go...          2  negative\n",
      "2  Been going to Dr. Goldberg for over 10 years. ...          4  positive\n",
      "3  Got a letter in the mail last week that said D...          4  positive\n",
      "4  I don't know what Dr. Goldberg was like before...          1  negative\n"
     ]
    },
    {
     "name": "stderr",
     "output_type": "stream",
     "text": [
      "\n"
     ]
    }
   ],
   "source": [
    "\n",
    "#pip install datasets\n",
    "from datasets import load_dataset\n",
    "import pandas as pd\n",
    "import os\n",
    "\n",
    "# 1. Cargar reseñas de Yelp\n",
    "dataset = load_dataset(\"yelp_review_full\", split=\"train[:50]\") \n",
    "\n",
    "# 2. Convertir a DataFrame\n",
    "df = dataset.to_pandas()\n",
    "df = df[[\"text\", \"label\"]].rename(columns={\"text\": \"texto\", \"label\": \"estrellas\"})\n",
    "\n",
    "# 3. Convertir de 0-4 a 1-5 estrellas reales\n",
    "df[\"estrellas\"] = df[\"estrellas\"] + 1\n",
    "\n",
    "# 4. Derivar sentimiento\n",
    "def derivar_sentimiento(estrellas):\n",
    "    if estrellas >= 4:\n",
    "        return \"positive\"\n",
    "    elif estrellas == 3:\n",
    "        return \"neutral\"\n",
    "    else:\n",
    "        return \"negative\"\n",
    "\n",
    "df[\"etiqueta\"] = df[\"estrellas\"].apply(derivar_sentimiento)\n",
    "\n",
    "# 5. Guardar en CSV\n",
    "os.makedirs(\"input\", exist_ok=True)\n",
    "df.to_csv(\"input/yelp_review.csv\", index=False)\n",
    "\n",
    "# 6. Mostrar ejemplo\n",
    "print(df.head())\n"
   ]
  }
 ],
 "metadata": {
  "kernelspec": {
   "display_name": "Python 3",
   "language": "python",
   "name": "python3"
  },
  "language_info": {
   "codemirror_mode": {
    "name": "ipython",
    "version": 3
   },
   "file_extension": ".py",
   "mimetype": "text/x-python",
   "name": "python",
   "nbconvert_exporter": "python",
   "pygments_lexer": "ipython3",
   "version": "3.9.6"
  }
 },
 "nbformat": 4,
 "nbformat_minor": 2
}
