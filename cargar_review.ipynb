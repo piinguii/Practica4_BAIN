{
 "cells": [
  {
   "cell_type": "code",
   "execution_count": 4,
   "metadata": {},
   "outputs": [
    {
     "name": "stdout",
     "output_type": "stream",
     "text": [
      "                                               texto  estrellas  etiqueta\n",
      "0  dr. goldberg offers everything i look for in a...          5  positivo\n",
      "1  Unfortunately, the frustration of being Dr. Go...          2  negativo\n",
      "2  Been going to Dr. Goldberg for over 10 years. ...          4  positivo\n",
      "3  Got a letter in the mail last week that said D...          4  positivo\n",
      "4  I don't know what Dr. Goldberg was like before...          1  negativo\n"
     ]
    }
   ],
   "source": [
    "\n",
    "#pip install datasets\n",
    "from datasets import load_dataset\n",
    "import pandas as pd\n",
    "import os\n",
    "\n",
    "# 1. Cargar reseñas de Yelp\n",
    "dataset = load_dataset(\"yelp_review_full\", split=\"train[:50]\")  # Puedes aumentar el número si quieres\n",
    "\n",
    "# 2. Convertir a DataFrame\n",
    "df = dataset.to_pandas()\n",
    "df = df[[\"text\", \"label\"]].rename(columns={\"text\": \"texto\", \"label\": \"estrellas\"})\n",
    "\n",
    "# 3. Convertir de 0-4 a 1-5 estrellas reales\n",
    "df[\"estrellas\"] = df[\"estrellas\"] + 1\n",
    "\n",
    "# 4. Derivar sentimiento\n",
    "def derivar_sentimiento(estrellas):\n",
    "    if estrellas >= 4:\n",
    "        return \"positivo\"\n",
    "    elif estrellas == 3:\n",
    "        return \"neutral\"\n",
    "    else:\n",
    "        return \"negativo\"\n",
    "\n",
    "df[\"etiqueta\"] = df[\"estrellas\"].apply(derivar_sentimiento)\n",
    "\n",
    "# 5. Guardar en CSV\n",
    "os.makedirs(\"input\", exist_ok=True)\n",
    "df.to_csv(\"input/yelp_review.csv\", index=False)\n",
    "\n",
    "# 6. Mostrar ejemplo\n",
    "print(df.head())\n"
   ]
  }
 ],
 "metadata": {
  "kernelspec": {
   "display_name": "Python 3",
   "language": "python",
   "name": "python3"
  },
  "language_info": {
   "codemirror_mode": {
    "name": "ipython",
    "version": 3
   },
   "file_extension": ".py",
   "mimetype": "text/x-python",
   "name": "python",
   "nbconvert_exporter": "python",
   "pygments_lexer": "ipython3",
   "version": "3.12.6"
  }
 },
 "nbformat": 4,
 "nbformat_minor": 2
}
