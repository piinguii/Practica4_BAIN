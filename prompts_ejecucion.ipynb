{
 "cells": [
  {
   "cell_type": "markdown",
   "id": "876d7069",
   "metadata": {},
   "source": [
    "# Diseño de Prompts y Ejecución\n",
    "1. Instalación `transformers`.\n",
    "2. "
   ]
  },
  {
   "cell_type": "code",
   "execution_count": null,
   "id": "e3375c34",
   "metadata": {
    "vscode": {
     "languageId": "plaintext"
    }
   },
   "outputs": [],
   "source": [
    "!pip install transformers"
   ]
  },
  {
   "cell_type": "code",
   "execution_count": null,
   "id": "af2b4238",
   "metadata": {
    "vscode": {
     "languageId": "plaintext"
    }
   },
   "outputs": [],
   "source": [
    "from transformers import pipeline\n",
    "import pandas as pd"
   ]
  },
  {
   "cell_type": "code",
   "execution_count": null,
   "id": "f60f081c",
   "metadata": {
    "vscode": {
     "languageId": "plaintext"
    }
   },
   "outputs": [],
   "source": [
    "df = pd.read_csv(\"yelp_review.csv\")\n",
    "reviews = df[\"text\"].tolist()"
   ]
  },
  {
   "cell_type": "code",
   "execution_count": null,
   "id": "55118654",
   "metadata": {
    "vscode": {
     "languageId": "plaintext"
    }
   },
   "outputs": [],
   "source": [
    "models = {\n",
    "    \"distilbert\": pipeline(\"text-classification\", model=\"distilbert-base-uncased-finetuned-sst-2-english\"),\n",
    "    \"bert\": pipeline(\"text-classification\", model=\"nlptown/bert-base-multilingual-uncased-sentiment\"),\n",
    "    \"flan-t5\": pipeline(\"text2text-generation\", model=\"google/flan-t5-base\")\n",
    "}"
   ]
  },
  {
   "cell_type": "code",
   "execution_count": null,
   "id": "a679eeaf",
   "metadata": {
    "vscode": {
     "languageId": "plaintext"
    }
   },
   "outputs": [],
   "source": [
    "def zero_shot_prompt(text):\n",
    "    return f\"Classify the sentiment of this review as positive, negative or neutral: {text}\"\n",
    "\n",
    "def few_shot_prompt(text):\n",
    "    return (\n",
    "        \"Review: I love this phone, it's fast and the camera is amazing.\\nSentiment: positive\\n\"\n",
    "        \"Review: It broke after a week. Very bad quality.\\nSentiment: negative\\n\"\n",
    "        f\"Review: {text}\\nSentiment:\"\n",
    "    )\n",
    "\n",
    "def cot_prompt(text):\n",
    "    return (\n",
    "        f\"Analyze the review and decide if it's positive, negative or neutral.\\n\"\n",
    "        f\"Review: {text}\\n\"\n",
    "        f\"Step-by-step reasoning:\"\n",
    "    )"
   ]
  }
 ],
 "metadata": {
  "language_info": {
   "name": "python"
  }
 },
 "nbformat": 4,
 "nbformat_minor": 5
}
