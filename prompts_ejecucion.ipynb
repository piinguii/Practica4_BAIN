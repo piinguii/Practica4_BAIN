{
 "cells": [
  {
   "cell_type": "markdown",
   "id": "ef501313",
   "metadata": {},
   "source": [
    "# Diseño de Prompts y Ejecución\n",
    "1. Instalación `transformers`.\n",
    "2. Importación de modelos desde Hugging Face (`roberta`, `bert`, `flan-t5`).\n",
    "3. Carga de reseñas desde un archivo CSV.\n",
    "4. Definición de tres técnicas de prompting: zero-shot, few-shot y chain-of-thought.\n",
    "5. Generación de tres variantes de prompt por técnica.\n",
    "6. Ejecución de los prompts en los modelos seleccionados."
   ]
  },
  {
   "cell_type": "code",
   "execution_count": 1,
   "id": "e3375c34",
   "metadata": {},
   "outputs": [
    {
     "name": "stdout",
     "output_type": "stream",
     "text": [
      "Defaulting to user installation because normal site-packages is not writeable\n",
      "Requirement already satisfied: transformers in /Users/olivia/Library/Python/3.9/lib/python/site-packages (4.51.3)\n",
      "Requirement already satisfied: tokenizers<0.22,>=0.21 in /Users/olivia/Library/Python/3.9/lib/python/site-packages (from transformers) (0.21.1)\n",
      "Requirement already satisfied: numpy>=1.17 in /Users/olivia/Library/Python/3.9/lib/python/site-packages (from transformers) (2.0.2)\n",
      "Requirement already satisfied: regex!=2019.12.17 in /Users/olivia/Library/Python/3.9/lib/python/site-packages (from transformers) (2024.11.6)\n",
      "Requirement already satisfied: requests in /Users/olivia/Library/Python/3.9/lib/python/site-packages (from transformers) (2.32.3)\n",
      "Requirement already satisfied: huggingface-hub<1.0,>=0.30.0 in /Users/olivia/Library/Python/3.9/lib/python/site-packages (from transformers) (0.31.1)\n",
      "Requirement already satisfied: tqdm>=4.27 in /Users/olivia/Library/Python/3.9/lib/python/site-packages (from transformers) (4.67.1)\n",
      "Requirement already satisfied: packaging>=20.0 in /Users/olivia/Library/Python/3.9/lib/python/site-packages (from transformers) (25.0)\n",
      "Requirement already satisfied: pyyaml>=5.1 in /Users/olivia/Library/Python/3.9/lib/python/site-packages (from transformers) (6.0.2)\n",
      "Requirement already satisfied: safetensors>=0.4.3 in /Users/olivia/Library/Python/3.9/lib/python/site-packages (from transformers) (0.5.3)\n",
      "Requirement already satisfied: filelock in /Users/olivia/Library/Python/3.9/lib/python/site-packages (from transformers) (3.18.0)\n",
      "Requirement already satisfied: hf-xet<2.0.0,>=1.1.0 in /Users/olivia/Library/Python/3.9/lib/python/site-packages (from huggingface-hub<1.0,>=0.30.0->transformers) (1.1.0)\n",
      "Requirement already satisfied: typing-extensions>=3.7.4.3 in /Users/olivia/Library/Python/3.9/lib/python/site-packages (from huggingface-hub<1.0,>=0.30.0->transformers) (4.13.2)\n",
      "Requirement already satisfied: fsspec>=2023.5.0 in /Users/olivia/Library/Python/3.9/lib/python/site-packages (from huggingface-hub<1.0,>=0.30.0->transformers) (2025.3.2)\n",
      "Requirement already satisfied: charset-normalizer<4,>=2 in /Users/olivia/Library/Python/3.9/lib/python/site-packages (from requests->transformers) (3.4.2)\n",
      "Requirement already satisfied: idna<4,>=2.5 in /Users/olivia/Library/Python/3.9/lib/python/site-packages (from requests->transformers) (3.10)\n",
      "Requirement already satisfied: urllib3<3,>=1.21.1 in /Users/olivia/Library/Python/3.9/lib/python/site-packages (from requests->transformers) (2.4.0)\n",
      "Requirement already satisfied: certifi>=2017.4.17 in /Users/olivia/Library/Python/3.9/lib/python/site-packages (from requests->transformers) (2025.4.26)\n",
      "\u001b[33mWARNING: You are using pip version 21.2.4; however, version 25.1.1 is available.\n",
      "You should consider upgrading via the '/Library/Developer/CommandLineTools/usr/bin/python3 -m pip install --upgrade pip' command.\u001b[0m\n",
      "Note: you may need to restart the kernel to use updated packages.\n",
      "Defaulting to user installation because normal site-packages is not writeable\n",
      "Requirement already satisfied: pandas in /Users/olivia/Library/Python/3.9/lib/python/site-packages (2.2.3)\n",
      "Requirement already satisfied: python-dateutil>=2.8.2 in /Users/olivia/Library/Python/3.9/lib/python/site-packages (from pandas) (2.9.0.post0)\n",
      "Requirement already satisfied: numpy>=1.22.4 in /Users/olivia/Library/Python/3.9/lib/python/site-packages (from pandas) (2.0.2)\n",
      "Requirement already satisfied: tzdata>=2022.7 in /Users/olivia/Library/Python/3.9/lib/python/site-packages (from pandas) (2025.2)\n",
      "Requirement already satisfied: pytz>=2020.1 in /Users/olivia/Library/Python/3.9/lib/python/site-packages (from pandas) (2025.2)\n",
      "Requirement already satisfied: six>=1.5 in /Library/Developer/CommandLineTools/Library/Frameworks/Python3.framework/Versions/3.9/lib/python3.9/site-packages (from python-dateutil>=2.8.2->pandas) (1.15.0)\n",
      "\u001b[33mWARNING: You are using pip version 21.2.4; however, version 25.1.1 is available.\n",
      "You should consider upgrading via the '/Library/Developer/CommandLineTools/usr/bin/python3 -m pip install --upgrade pip' command.\u001b[0m\n",
      "Note: you may need to restart the kernel to use updated packages.\n",
      "Defaulting to user installation because normal site-packages is not writeable\n",
      "Requirement already satisfied: tensorflow in /Users/olivia/Library/Python/3.9/lib/python/site-packages (2.19.0)\n",
      "Requirement already satisfied: setuptools in /Library/Developer/CommandLineTools/Library/Frameworks/Python3.framework/Versions/3.9/lib/python3.9/site-packages (from tensorflow) (58.0.4)\n",
      "Requirement already satisfied: flatbuffers>=24.3.25 in /Users/olivia/Library/Python/3.9/lib/python/site-packages (from tensorflow) (25.2.10)\n",
      "Requirement already satisfied: ml-dtypes<1.0.0,>=0.5.1 in /Users/olivia/Library/Python/3.9/lib/python/site-packages (from tensorflow) (0.5.1)\n",
      "Requirement already satisfied: tensorboard~=2.19.0 in /Users/olivia/Library/Python/3.9/lib/python/site-packages (from tensorflow) (2.19.0)\n",
      "Requirement already satisfied: libclang>=13.0.0 in /Users/olivia/Library/Python/3.9/lib/python/site-packages (from tensorflow) (18.1.1)\n",
      "Requirement already satisfied: opt-einsum>=2.3.2 in /Users/olivia/Library/Python/3.9/lib/python/site-packages (from tensorflow) (3.4.0)\n",
      "Requirement already satisfied: gast!=0.5.0,!=0.5.1,!=0.5.2,>=0.2.1 in /Users/olivia/Library/Python/3.9/lib/python/site-packages (from tensorflow) (0.6.0)\n",
      "Requirement already satisfied: h5py>=3.11.0 in /Users/olivia/Library/Python/3.9/lib/python/site-packages (from tensorflow) (3.13.0)\n",
      "Requirement already satisfied: numpy<2.2.0,>=1.26.0 in /Users/olivia/Library/Python/3.9/lib/python/site-packages (from tensorflow) (2.0.2)\n",
      "Requirement already satisfied: astunparse>=1.6.0 in /Users/olivia/Library/Python/3.9/lib/python/site-packages (from tensorflow) (1.6.3)\n",
      "Requirement already satisfied: wrapt>=1.11.0 in /Users/olivia/Library/Python/3.9/lib/python/site-packages (from tensorflow) (1.17.2)\n",
      "Requirement already satisfied: google-pasta>=0.1.1 in /Users/olivia/Library/Python/3.9/lib/python/site-packages (from tensorflow) (0.2.0)\n",
      "Requirement already satisfied: termcolor>=1.1.0 in /Users/olivia/Library/Python/3.9/lib/python/site-packages (from tensorflow) (3.1.0)\n",
      "Requirement already satisfied: typing-extensions>=3.6.6 in /Users/olivia/Library/Python/3.9/lib/python/site-packages (from tensorflow) (4.13.2)\n",
      "Requirement already satisfied: six>=1.12.0 in /Library/Developer/CommandLineTools/Library/Frameworks/Python3.framework/Versions/3.9/lib/python3.9/site-packages (from tensorflow) (1.15.0)\n",
      "Requirement already satisfied: grpcio<2.0,>=1.24.3 in /Users/olivia/Library/Python/3.9/lib/python/site-packages (from tensorflow) (1.71.0)\n",
      "Requirement already satisfied: tensorflow-io-gcs-filesystem>=0.23.1 in /Users/olivia/Library/Python/3.9/lib/python/site-packages (from tensorflow) (0.37.1)\n",
      "Requirement already satisfied: requests<3,>=2.21.0 in /Users/olivia/Library/Python/3.9/lib/python/site-packages (from tensorflow) (2.32.3)\n",
      "Requirement already satisfied: absl-py>=1.0.0 in /Users/olivia/Library/Python/3.9/lib/python/site-packages (from tensorflow) (2.2.2)\n",
      "Requirement already satisfied: protobuf!=4.21.0,!=4.21.1,!=4.21.2,!=4.21.3,!=4.21.4,!=4.21.5,<6.0.0dev,>=3.20.3 in /Users/olivia/Library/Python/3.9/lib/python/site-packages (from tensorflow) (5.29.4)\n",
      "Requirement already satisfied: packaging in /Users/olivia/Library/Python/3.9/lib/python/site-packages (from tensorflow) (25.0)\n",
      "Requirement already satisfied: keras>=3.5.0 in /Users/olivia/Library/Python/3.9/lib/python/site-packages (from tensorflow) (3.9.2)\n",
      "Requirement already satisfied: wheel<1.0,>=0.23.0 in /Library/Developer/CommandLineTools/Library/Frameworks/Python3.framework/Versions/3.9/lib/python3.9/site-packages (from astunparse>=1.6.0->tensorflow) (0.37.0)\n",
      "Requirement already satisfied: rich in /Users/olivia/Library/Python/3.9/lib/python/site-packages (from keras>=3.5.0->tensorflow) (14.0.0)\n",
      "Requirement already satisfied: optree in /Users/olivia/Library/Python/3.9/lib/python/site-packages (from keras>=3.5.0->tensorflow) (0.15.0)\n",
      "Requirement already satisfied: namex in /Users/olivia/Library/Python/3.9/lib/python/site-packages (from keras>=3.5.0->tensorflow) (0.0.9)\n",
      "Requirement already satisfied: idna<4,>=2.5 in /Users/olivia/Library/Python/3.9/lib/python/site-packages (from requests<3,>=2.21.0->tensorflow) (3.10)\n",
      "Requirement already satisfied: charset-normalizer<4,>=2 in /Users/olivia/Library/Python/3.9/lib/python/site-packages (from requests<3,>=2.21.0->tensorflow) (3.4.2)\n",
      "Requirement already satisfied: urllib3<3,>=1.21.1 in /Users/olivia/Library/Python/3.9/lib/python/site-packages (from requests<3,>=2.21.0->tensorflow) (2.4.0)\n",
      "Requirement already satisfied: certifi>=2017.4.17 in /Users/olivia/Library/Python/3.9/lib/python/site-packages (from requests<3,>=2.21.0->tensorflow) (2025.4.26)\n",
      "Requirement already satisfied: markdown>=2.6.8 in /Users/olivia/Library/Python/3.9/lib/python/site-packages (from tensorboard~=2.19.0->tensorflow) (3.8)\n",
      "Requirement already satisfied: werkzeug>=1.0.1 in /Users/olivia/Library/Python/3.9/lib/python/site-packages (from tensorboard~=2.19.0->tensorflow) (3.1.3)\n",
      "Requirement already satisfied: tensorboard-data-server<0.8.0,>=0.7.0 in /Users/olivia/Library/Python/3.9/lib/python/site-packages (from tensorboard~=2.19.0->tensorflow) (0.7.2)\n",
      "Requirement already satisfied: importlib-metadata>=4.4 in /Users/olivia/Library/Python/3.9/lib/python/site-packages (from markdown>=2.6.8->tensorboard~=2.19.0->tensorflow) (8.7.0)\n",
      "Requirement already satisfied: zipp>=3.20 in /Users/olivia/Library/Python/3.9/lib/python/site-packages (from importlib-metadata>=4.4->markdown>=2.6.8->tensorboard~=2.19.0->tensorflow) (3.21.0)\n",
      "Requirement already satisfied: MarkupSafe>=2.1.1 in /Users/olivia/Library/Python/3.9/lib/python/site-packages (from werkzeug>=1.0.1->tensorboard~=2.19.0->tensorflow) (3.0.2)\n",
      "Requirement already satisfied: pygments<3.0.0,>=2.13.0 in /Users/olivia/Library/Python/3.9/lib/python/site-packages (from rich->keras>=3.5.0->tensorflow) (2.19.1)\n",
      "Requirement already satisfied: markdown-it-py>=2.2.0 in /Users/olivia/Library/Python/3.9/lib/python/site-packages (from rich->keras>=3.5.0->tensorflow) (3.0.0)\n",
      "Requirement already satisfied: mdurl~=0.1 in /Users/olivia/Library/Python/3.9/lib/python/site-packages (from markdown-it-py>=2.2.0->rich->keras>=3.5.0->tensorflow) (0.1.2)\n",
      "\u001b[33mWARNING: You are using pip version 21.2.4; however, version 25.1.1 is available.\n",
      "You should consider upgrading via the '/Library/Developer/CommandLineTools/usr/bin/python3 -m pip install --upgrade pip' command.\u001b[0m\n",
      "Note: you may need to restart the kernel to use updated packages.\n",
      "Defaulting to user installation because normal site-packages is not writeable\n",
      "Requirement already satisfied: torch in /Users/olivia/Library/Python/3.9/lib/python/site-packages (2.7.0)\n",
      "Requirement already satisfied: filelock in /Users/olivia/Library/Python/3.9/lib/python/site-packages (from torch) (3.18.0)\n",
      "Requirement already satisfied: typing-extensions>=4.10.0 in /Users/olivia/Library/Python/3.9/lib/python/site-packages (from torch) (4.13.2)\n",
      "Requirement already satisfied: networkx in /Users/olivia/Library/Python/3.9/lib/python/site-packages (from torch) (3.2.1)\n",
      "Requirement already satisfied: fsspec in /Users/olivia/Library/Python/3.9/lib/python/site-packages (from torch) (2025.3.2)\n",
      "Requirement already satisfied: sympy>=1.13.3 in /Users/olivia/Library/Python/3.9/lib/python/site-packages (from torch) (1.14.0)\n",
      "Requirement already satisfied: jinja2 in /Users/olivia/Library/Python/3.9/lib/python/site-packages (from torch) (3.1.6)\n",
      "Requirement already satisfied: mpmath<1.4,>=1.1.0 in /Users/olivia/Library/Python/3.9/lib/python/site-packages (from sympy>=1.13.3->torch) (1.3.0)\n",
      "Requirement already satisfied: MarkupSafe>=2.0 in /Users/olivia/Library/Python/3.9/lib/python/site-packages (from jinja2->torch) (3.0.2)\n",
      "\u001b[33mWARNING: You are using pip version 21.2.4; however, version 25.1.1 is available.\n",
      "You should consider upgrading via the '/Library/Developer/CommandLineTools/usr/bin/python3 -m pip install --upgrade pip' command.\u001b[0m\n",
      "Note: you may need to restart the kernel to use updated packages.\n",
      "Defaulting to user installation because normal site-packages is not writeable\n",
      "Requirement already satisfied: tf-keras in /Users/olivia/Library/Python/3.9/lib/python/site-packages (2.19.0)\n",
      "Requirement already satisfied: tensorflow<2.20,>=2.19 in /Users/olivia/Library/Python/3.9/lib/python/site-packages (from tf-keras) (2.19.0)\n",
      "Requirement already satisfied: typing-extensions>=3.6.6 in /Users/olivia/Library/Python/3.9/lib/python/site-packages (from tensorflow<2.20,>=2.19->tf-keras) (4.13.2)\n",
      "Requirement already satisfied: termcolor>=1.1.0 in /Users/olivia/Library/Python/3.9/lib/python/site-packages (from tensorflow<2.20,>=2.19->tf-keras) (3.1.0)\n",
      "Requirement already satisfied: numpy<2.2.0,>=1.26.0 in /Users/olivia/Library/Python/3.9/lib/python/site-packages (from tensorflow<2.20,>=2.19->tf-keras) (2.0.2)\n",
      "Requirement already satisfied: ml-dtypes<1.0.0,>=0.5.1 in /Users/olivia/Library/Python/3.9/lib/python/site-packages (from tensorflow<2.20,>=2.19->tf-keras) (0.5.1)\n",
      "Requirement already satisfied: gast!=0.5.0,!=0.5.1,!=0.5.2,>=0.2.1 in /Users/olivia/Library/Python/3.9/lib/python/site-packages (from tensorflow<2.20,>=2.19->tf-keras) (0.6.0)\n",
      "Requirement already satisfied: astunparse>=1.6.0 in /Users/olivia/Library/Python/3.9/lib/python/site-packages (from tensorflow<2.20,>=2.19->tf-keras) (1.6.3)\n",
      "Requirement already satisfied: libclang>=13.0.0 in /Users/olivia/Library/Python/3.9/lib/python/site-packages (from tensorflow<2.20,>=2.19->tf-keras) (18.1.1)\n",
      "Requirement already satisfied: h5py>=3.11.0 in /Users/olivia/Library/Python/3.9/lib/python/site-packages (from tensorflow<2.20,>=2.19->tf-keras) (3.13.0)\n",
      "Requirement already satisfied: absl-py>=1.0.0 in /Users/olivia/Library/Python/3.9/lib/python/site-packages (from tensorflow<2.20,>=2.19->tf-keras) (2.2.2)\n",
      "Requirement already satisfied: keras>=3.5.0 in /Users/olivia/Library/Python/3.9/lib/python/site-packages (from tensorflow<2.20,>=2.19->tf-keras) (3.9.2)\n",
      "Requirement already satisfied: wrapt>=1.11.0 in /Users/olivia/Library/Python/3.9/lib/python/site-packages (from tensorflow<2.20,>=2.19->tf-keras) (1.17.2)\n",
      "Requirement already satisfied: requests<3,>=2.21.0 in /Users/olivia/Library/Python/3.9/lib/python/site-packages (from tensorflow<2.20,>=2.19->tf-keras) (2.32.3)\n",
      "Requirement already satisfied: google-pasta>=0.1.1 in /Users/olivia/Library/Python/3.9/lib/python/site-packages (from tensorflow<2.20,>=2.19->tf-keras) (0.2.0)\n",
      "Requirement already satisfied: grpcio<2.0,>=1.24.3 in /Users/olivia/Library/Python/3.9/lib/python/site-packages (from tensorflow<2.20,>=2.19->tf-keras) (1.71.0)\n",
      "Requirement already satisfied: six>=1.12.0 in /Library/Developer/CommandLineTools/Library/Frameworks/Python3.framework/Versions/3.9/lib/python3.9/site-packages (from tensorflow<2.20,>=2.19->tf-keras) (1.15.0)\n",
      "Requirement already satisfied: tensorflow-io-gcs-filesystem>=0.23.1 in /Users/olivia/Library/Python/3.9/lib/python/site-packages (from tensorflow<2.20,>=2.19->tf-keras) (0.37.1)\n",
      "Requirement already satisfied: opt-einsum>=2.3.2 in /Users/olivia/Library/Python/3.9/lib/python/site-packages (from tensorflow<2.20,>=2.19->tf-keras) (3.4.0)\n",
      "Requirement already satisfied: protobuf!=4.21.0,!=4.21.1,!=4.21.2,!=4.21.3,!=4.21.4,!=4.21.5,<6.0.0dev,>=3.20.3 in /Users/olivia/Library/Python/3.9/lib/python/site-packages (from tensorflow<2.20,>=2.19->tf-keras) (5.29.4)\n",
      "Requirement already satisfied: tensorboard~=2.19.0 in /Users/olivia/Library/Python/3.9/lib/python/site-packages (from tensorflow<2.20,>=2.19->tf-keras) (2.19.0)\n",
      "Requirement already satisfied: setuptools in /Library/Developer/CommandLineTools/Library/Frameworks/Python3.framework/Versions/3.9/lib/python3.9/site-packages (from tensorflow<2.20,>=2.19->tf-keras) (58.0.4)\n",
      "Requirement already satisfied: flatbuffers>=24.3.25 in /Users/olivia/Library/Python/3.9/lib/python/site-packages (from tensorflow<2.20,>=2.19->tf-keras) (25.2.10)\n",
      "Requirement already satisfied: packaging in /Users/olivia/Library/Python/3.9/lib/python/site-packages (from tensorflow<2.20,>=2.19->tf-keras) (25.0)\n",
      "Requirement already satisfied: wheel<1.0,>=0.23.0 in /Library/Developer/CommandLineTools/Library/Frameworks/Python3.framework/Versions/3.9/lib/python3.9/site-packages (from astunparse>=1.6.0->tensorflow<2.20,>=2.19->tf-keras) (0.37.0)\n",
      "Requirement already satisfied: rich in /Users/olivia/Library/Python/3.9/lib/python/site-packages (from keras>=3.5.0->tensorflow<2.20,>=2.19->tf-keras) (14.0.0)\n",
      "Requirement already satisfied: optree in /Users/olivia/Library/Python/3.9/lib/python/site-packages (from keras>=3.5.0->tensorflow<2.20,>=2.19->tf-keras) (0.15.0)\n",
      "Requirement already satisfied: namex in /Users/olivia/Library/Python/3.9/lib/python/site-packages (from keras>=3.5.0->tensorflow<2.20,>=2.19->tf-keras) (0.0.9)\n",
      "Requirement already satisfied: charset-normalizer<4,>=2 in /Users/olivia/Library/Python/3.9/lib/python/site-packages (from requests<3,>=2.21.0->tensorflow<2.20,>=2.19->tf-keras) (3.4.2)\n",
      "Requirement already satisfied: idna<4,>=2.5 in /Users/olivia/Library/Python/3.9/lib/python/site-packages (from requests<3,>=2.21.0->tensorflow<2.20,>=2.19->tf-keras) (3.10)\n",
      "Requirement already satisfied: certifi>=2017.4.17 in /Users/olivia/Library/Python/3.9/lib/python/site-packages (from requests<3,>=2.21.0->tensorflow<2.20,>=2.19->tf-keras) (2025.4.26)\n",
      "Requirement already satisfied: urllib3<3,>=1.21.1 in /Users/olivia/Library/Python/3.9/lib/python/site-packages (from requests<3,>=2.21.0->tensorflow<2.20,>=2.19->tf-keras) (2.4.0)\n",
      "Requirement already satisfied: markdown>=2.6.8 in /Users/olivia/Library/Python/3.9/lib/python/site-packages (from tensorboard~=2.19.0->tensorflow<2.20,>=2.19->tf-keras) (3.8)\n",
      "Requirement already satisfied: werkzeug>=1.0.1 in /Users/olivia/Library/Python/3.9/lib/python/site-packages (from tensorboard~=2.19.0->tensorflow<2.20,>=2.19->tf-keras) (3.1.3)\n",
      "Requirement already satisfied: tensorboard-data-server<0.8.0,>=0.7.0 in /Users/olivia/Library/Python/3.9/lib/python/site-packages (from tensorboard~=2.19.0->tensorflow<2.20,>=2.19->tf-keras) (0.7.2)\n",
      "Requirement already satisfied: importlib-metadata>=4.4 in /Users/olivia/Library/Python/3.9/lib/python/site-packages (from markdown>=2.6.8->tensorboard~=2.19.0->tensorflow<2.20,>=2.19->tf-keras) (8.7.0)\n",
      "Requirement already satisfied: zipp>=3.20 in /Users/olivia/Library/Python/3.9/lib/python/site-packages (from importlib-metadata>=4.4->markdown>=2.6.8->tensorboard~=2.19.0->tensorflow<2.20,>=2.19->tf-keras) (3.21.0)\n",
      "Requirement already satisfied: MarkupSafe>=2.1.1 in /Users/olivia/Library/Python/3.9/lib/python/site-packages (from werkzeug>=1.0.1->tensorboard~=2.19.0->tensorflow<2.20,>=2.19->tf-keras) (3.0.2)\n",
      "Requirement already satisfied: markdown-it-py>=2.2.0 in /Users/olivia/Library/Python/3.9/lib/python/site-packages (from rich->keras>=3.5.0->tensorflow<2.20,>=2.19->tf-keras) (3.0.0)\n",
      "Requirement already satisfied: pygments<3.0.0,>=2.13.0 in /Users/olivia/Library/Python/3.9/lib/python/site-packages (from rich->keras>=3.5.0->tensorflow<2.20,>=2.19->tf-keras) (2.19.1)\n",
      "Requirement already satisfied: mdurl~=0.1 in /Users/olivia/Library/Python/3.9/lib/python/site-packages (from markdown-it-py>=2.2.0->rich->keras>=3.5.0->tensorflow<2.20,>=2.19->tf-keras) (0.1.2)\n",
      "\u001b[33mWARNING: You are using pip version 21.2.4; however, version 25.1.1 is available.\n",
      "You should consider upgrading via the '/Library/Developer/CommandLineTools/usr/bin/python3 -m pip install --upgrade pip' command.\u001b[0m\n",
      "Note: you may need to restart the kernel to use updated packages.\n"
     ]
    }
   ],
   "source": [
    "%pip install transformers\n",
    "%pip install pandas\n",
    "%pip install tensorflow\n",
    "%pip install torch\n",
    "%pip install tf-keras"
   ]
  },
  {
   "cell_type": "code",
   "execution_count": 1,
   "id": "af2b4238",
   "metadata": {},
   "outputs": [
    {
     "name": "stderr",
     "output_type": "stream",
     "text": [
      "c:\\Users\\claud\\OneDrive - U-tad\\01_MAIS\\6th Semester\\02_BAIN\\Practica4\\.venv\\Lib\\site-packages\\tqdm\\auto.py:21: TqdmWarning: IProgress not found. Please update jupyter and ipywidgets. See https://ipywidgets.readthedocs.io/en/stable/user_install.html\n",
      "  from .autonotebook import tqdm as notebook_tqdm\n"
     ]
    }
   ],
   "source": [
    "from transformers import pipeline\n",
    "import pandas as pd"
   ]
  },
  {
   "cell_type": "code",
   "execution_count": 2,
   "id": "f60f081c",
   "metadata": {},
   "outputs": [],
   "source": [
    "df = pd.read_csv(\"input/yelp_review.csv\")\n",
    "reviews = df[\"texto\"].tolist()"
   ]
  },
  {
   "cell_type": "code",
   "execution_count": 3,
   "id": "55118654",
   "metadata": {},
   "outputs": [
    {
     "name": "stderr",
     "output_type": "stream",
     "text": [
      "Device set to use cpu\n",
      "Device set to use cpu\n"
     ]
    },
    {
     "name": "stdout",
     "output_type": "stream",
     "text": [
      "WARNING:tensorflow:From c:\\Users\\claud\\OneDrive - U-tad\\01_MAIS\\6th Semester\\02_BAIN\\Practica4\\.venv\\Lib\\site-packages\\tf_keras\\src\\losses.py:2976: The name tf.losses.sparse_softmax_cross_entropy is deprecated. Please use tf.compat.v1.losses.sparse_softmax_cross_entropy instead.\n",
      "\n"
     ]
    },
    {
     "name": "stderr",
     "output_type": "stream",
     "text": [
      "Device set to use cpu\n"
     ]
    }
   ],
   "source": [
    "models = {\n",
    "    \"alpaca\": pipeline(\"text2text-generation\", model=\"declare-lab/flan-alpaca-base\", framework=\"pt\"),\n",
    "    \"falcon\": pipeline(\"text-generation\", model=\"tiiuae/falcon-rw-1b\", framework=\"pt\"),\n",
    "    \"flan-t5\": pipeline(\"text2text-generation\", model=\"google/flan-t5-base\")\n",
    "}"
   ]
  },
  {
   "cell_type": "code",
   "execution_count": 4,
   "id": "a679eeaf",
   "metadata": {},
   "outputs": [],
   "source": [
    "def zero_shot_prompt(text):\n",
    "    return (\n",
    "        \"What is the sentiment of the following customer review? Respond with either Positive, Negative, or Neutral.\\n\"\n",
    "        f\"Review: {text}\\n\"\n",
    "        \"Sentiment:\"\n",
    "    )\n",
    "\n",
    "def few_shot_prompt(text):\n",
    "    return (\n",
    "        \"Analyze the review and decide if it's positive, negative or neutral, justifying your reasoning.\\n\\n\"\n",
    "        \n",
    "        \"Review: I’ve been using this phone for over a month now and I honestly couldn’t be happier. \"\n",
    "        \"The performance is super fast — apps open instantly, and multitasking is smooth. The camera quality is outstanding, \"\n",
    "        \"especially in low light conditions, and the battery easily lasts me a full day with heavy use. It also feels sturdy and well-built. \"\n",
    "        \"Totally worth the price, highly recommended.\\n\"\n",
    "        \"Sentiment: positive\\n\\n\"\n",
    "        \n",
    "        \"Review: I had high hopes for this product, but I was extremely disappointed. \"\n",
    "        \"After just one week of normal use, it completely stopped working. The screen froze constantly, and the battery would not hold a charge. \"\n",
    "        \"I tried contacting customer service, but they never responded. Very poor quality for the price, and I regret buying it. \"\n",
    "        \"Would not recommend this to anyone.\\n\"\n",
    "        \"Sentiment: negative\\n\\n\"\n",
    "\n",
    "        f\"Review: {text}\\n\"\n",
    "        \"Sentiment:\"\n",
    "    )\n",
    "\n",
    "def cot_prompt(text):\n",
    "    return (\n",
    "        \"Analyze the review and decide if it's positive, negative or neutral, justifying your reasoning.\\n\\n\"\n",
    "\n",
    "        \"Review: I’ve been using this phone for over a month now and I honestly couldn’t be happier. \"\n",
    "        \"The performance is super fast — apps open instantly, and multitasking is smooth. The camera quality is outstanding\"\n",
    "        \", and the battery easily lasts me a full day with heavy use. \"\n",
    "        \"Totally worth the price, highly recommended.\\n\"\n",
    "        \"Reasoning: The reviewer is clearly satisfied, using words like 'super fast', 'outstanding', and 'highly recommended'. \"\n",
    "        \"These indicate a strong positive experience.\\n\"\n",
    "        \"Sentiment: positive\\n\\n\"\n",
    "\n",
    "        \"Review: I had high hopes for this product, but I was extremely disappointed. \"\n",
    "        \"After just one week of normal use, it completely stopped working.\"\n",
    "        \"I tried contacting customer service, but they never responded. Very poor quality for the price, and I regret buying it.\\n\"\n",
    "        \"Reasoning: The reviewer describes multiple failures and dissatisfaction, using phrases like 'extremely disappointed', 'poor quality', and 'regret buying it'.\\n\"\n",
    "        \"Sentiment: negative\\n\\n\"\n",
    "\n",
    "        f\"Review: {text}\\n\"\n",
    "        \"Reasoning:\"\n",
    "    )\n"
   ]
  },
  {
   "cell_type": "code",
   "execution_count": 21,
   "id": "ef4218dc",
   "metadata": {},
   "outputs": [
    {
     "name": "stdout",
     "output_type": "stream",
     "text": [
      "\n",
      "=== FLAN-T5 ===\n",
      "\n",
      "Review: dr. goldberg offers everything i look for in a general practitioner.  he's nice and easy to talk to without being patronizing; he's always on time in seeing his patients; he's affiliated with a top-notch hospital (nyu) which my parents have explained to me is very important in case something happens and you need surgery; and you can get referrals to see specialists without having to see him first.  really, what more do you need?  i'm sitting here trying to think of any complaints i have about him, but i'm really drawing a blank.\n",
      "Prediction: positive\n",
      "\n",
      "Review: Unfortunately, the frustration of being Dr. Goldberg's patient is a repeat of the experience I've had with so many other doctors in NYC -- good doctor, terrible staff.  It seems that his staff simply never answers the phone.  It usually takes 2 hours of repeated calling to get an answer.  Who has time for that or wants to deal with it?  I have run into this problem with many other doctors and I just don't get it.  You have office workers, you have patients with medical needs, why isn't anyone answering the phone?  It's incomprehensible and not work the aggravation.  It's with regret that I feel that I have to give Dr. Goldberg 2 stars.\n",
      "Prediction: negative\n",
      "\n",
      "Review: Been going to Dr. Goldberg for over 10 years. I think I was one of his 1st patients when he started at MHMG. He's been great over the years and is really all about the big picture. It is because of him, not my now former gyn Dr. Markoff, that I found out I have fibroids. He explores all options with you and is very patient and understanding. He doesn't judge and asks all the right questions. Very thorough and wants to be kept in the loop on every aspect of your medical health and your life.\n",
      "Prediction: positive\n",
      "\n",
      "Review: Got a letter in the mail last week that said Dr. Goldberg is moving to Arizona to take a new position there in June.  He will be missed very much.  \\n\\nI think finding a new doctor in NYC that you actually like might almost be as awful as trying to find a date!\n",
      "Prediction: negative\n",
      "\n",
      "Review: I don't know what Dr. Goldberg was like before  moving to Arizona, but let me tell you, STAY AWAY from this doctor and this office. I was going to Dr. Johnson before he left and Goldberg took over when Johnson left. He is not a caring doctor. He is only interested in the co-pay and having you come in for medication refills every month. He will not give refills and could less about patients's financial situations. Trying to get your 90 days mail away pharmacy prescriptions through this guy is a joke. And to make matters even worse, his office staff is incompetent. 90% of the time when you call the office, they'll put you through to a voice mail, that NO ONE ever answers or returns your call. Both my adult children and husband have decided to leave this practice after experiencing such frustration. The entire office has an attitude like they are doing you a favor. Give me a break! Stay away from this doc and the practice. You deserve better and they will not be there when you really need them. I have never felt compelled to write a bad review about anyone until I met this pathetic excuse for a doctor who is all about the money.\n",
      "Prediction: negative\n",
      "\n",
      "Review: Top notch doctor in a top notch practice. Can't say I am surprised when I was referred to him by another doctor who I think is wonderful and because he went to one of the best medical schools in the country. \\nIt is really easy to get an appointment. There is minimal wait to be seen and his bedside manner is great.\n",
      "Prediction: positive\n",
      "\n",
      "Review: Dr. Eric Goldberg is a fantastic doctor who has correctly diagnosed every issue that my wife and I have had. Unlike many of my past doctors, Dr. Goldberg is very accessible and we have been able to schedule appointments with him and his staff very quickly. We are happy to have him in the neighborhood and look forward to being his patients for many years to come.\n",
      "Prediction: positive\n",
      "\n",
      "Review: I'm writing this review to give you a heads up before you see this Doctor. The office staff and administration are very unprofessional. I left a message with multiple people regarding my bill, and no one ever called me back. I had to hound them to get an answer about my bill. \\n\\nSecond, and most important, make sure your insurance is going to cover Dr. Goldberg's visits and blood work. He recommended to me that I get a physical, and he knew I was a student because I told him. I got the physical done. Later, I found out my health insurance doesn't pay for preventative visits. I received an $800.00 bill for the blood work. I can't pay for my bill because I'm a student and don't have any cash flow at this current time. I can't believe the Doctor wouldn't give me a heads up to make sure my insurance would cover work that wasn't necessary and was strictly preventative. The office can't do anything to help me cover the bill. In addition, the office staff said the onus is on me to make sure my insurance covers visits. Frustrating situation!\n",
      "Prediction: negative\n",
      "\n",
      "Review: Wing sauce is like water. Pretty much a lot of butter and some hot sauce (franks red hot maybe).  The whole wings are good size and crispy, but for $1 a wing the sauce could be better. The hot and extra hot are about the same flavor/heat.  The fish sandwich is good and is a large portion, sides are decent.\n",
      "Prediction: negative\n",
      "\n",
      "Review: Decent range somewhat close to the city.  The mats are pretty solid; however, the grass range needs to be tended too.  It's like hitting out of US Open type rough...not very amenable to practicing.  Which kind of defeats the purpose of going to a golf range...Still gets 3 stars because the range is lit up at night which is excellent for those of us who are addicted to this amazing game, but are somewhat short on time (having a job kinda sucks sometimes, no?).\n",
      "Prediction: negative\n",
      "\n"
     ]
    }
   ],
   "source": [
    "print(\"\\n=== FLAN-T5 ===\\n\")\n",
    "\n",
    "for text in reviews[:10]:\n",
    "    prompt = few_shot_prompt(text)\n",
    "    raw = models[\"flan-t5\"](prompt, max_length=50, do_sample=False)[0][\"generated_text\"]\n",
    "    result = raw.strip().split(\"\\n\")[0].strip()\n",
    "    print(f\"Review: {text}\\nPrediction: {result}\\n\")\n"
   ]
  },
  {
   "cell_type": "code",
   "execution_count": 22,
   "id": "59a8a7dc",
   "metadata": {},
   "outputs": [
    {
     "name": "stdout",
     "output_type": "stream",
     "text": [
      "\n",
      "=== ALPACA ===\n",
      "\n",
      "Review: dr. goldberg offers everything i look for in a general practitioner.  he's nice and easy to talk to without being patronizing; he's always on time in seeing his patients; he's affiliated with a top-notch hospital (nyu) which my parents have explained to me is very important in case something happens and you need surgery; and you can get referrals to see specialists without having to see him first.  really, what more do you need?  i'm sitting here trying to think of any complaints i have about him, but i'm really drawing a blank.\n",
      "Prediction: Sentiment: positive\n",
      "\n",
      "Review: Unfortunately, the frustration of being Dr. Goldberg's patient is a repeat of the experience I've had with so many other doctors in NYC -- good doctor, terrible staff.  It seems that his staff simply never answers the phone.  It usually takes 2 hours of repeated calling to get an answer.  Who has time for that or wants to deal with it?  I have run into this problem with many other doctors and I just don't get it.  You have office workers, you have patients with medical needs, why isn't anyone answering the phone?  It's incomprehensible and not work the aggravation.  It's with regret that I feel that I have to give Dr. Goldberg 2 stars.\n",
      "Prediction: Sentiment: Negative\n",
      "\n",
      "Review: Been going to Dr. Goldberg for over 10 years. I think I was one of his 1st patients when he started at MHMG. He's been great over the years and is really all about the big picture. It is because of him, not my now former gyn Dr. Markoff, that I found out I have fibroids. He explores all options with you and is very patient and understanding. He doesn't judge and asks all the right questions. Very thorough and wants to be kept in the loop on every aspect of your medical health and your life.\n",
      "Prediction: Sentiment: positive\n",
      "\n"
     ]
    },
    {
     "name": "stderr",
     "output_type": "stream",
     "text": [
      "Token indices sequence length is longer than the specified maximum sequence length for this model (515 > 512). Running this sequence through the model will result in indexing errors\n"
     ]
    },
    {
     "name": "stdout",
     "output_type": "stream",
     "text": [
      "Review: Got a letter in the mail last week that said Dr. Goldberg is moving to Arizona to take a new position there in June.  He will be missed very much.  \\n\\nI think finding a new doctor in NYC that you actually like might almost be as awful as trying to find a date!\n",
      "Prediction: Sentiment: Negative\n",
      "\n",
      "Review: I don't know what Dr. Goldberg was like before  moving to Arizona, but let me tell you, STAY AWAY from this doctor and this office. I was going to Dr. Johnson before he left and Goldberg took over when Johnson left. He is not a caring doctor. He is only interested in the co-pay and having you come in for medication refills every month. He will not give refills and could less about patients's financial situations. Trying to get your 90 days mail away pharmacy prescriptions through this guy is a joke. And to make matters even worse, his office staff is incompetent. 90% of the time when you call the office, they'll put you through to a voice mail, that NO ONE ever answers or returns your call. Both my adult children and husband have decided to leave this practice after experiencing such frustration. The entire office has an attitude like they are doing you a favor. Give me a break! Stay away from this doc and the practice. You deserve better and they will not be there when you really need them. I have never felt compelled to write a bad review about anyone until I met this pathetic excuse for a doctor who is all about the money.\n",
      "Prediction: Sentiment: Negative\n",
      "\n",
      "Review: Top notch doctor in a top notch practice. Can't say I am surprised when I was referred to him by another doctor who I think is wonderful and because he went to one of the best medical schools in the country. \\nIt is really easy to get an appointment. There is minimal wait to be seen and his bedside manner is great.\n",
      "Prediction: Sentiment: positive\n",
      "\n",
      "Review: Dr. Eric Goldberg is a fantastic doctor who has correctly diagnosed every issue that my wife and I have had. Unlike many of my past doctors, Dr. Goldberg is very accessible and we have been able to schedule appointments with him and his staff very quickly. We are happy to have him in the neighborhood and look forward to being his patients for many years to come.\n",
      "Prediction: Positive\n",
      "\n",
      "Review: I'm writing this review to give you a heads up before you see this Doctor. The office staff and administration are very unprofessional. I left a message with multiple people regarding my bill, and no one ever called me back. I had to hound them to get an answer about my bill. \\n\\nSecond, and most important, make sure your insurance is going to cover Dr. Goldberg's visits and blood work. He recommended to me that I get a physical, and he knew I was a student because I told him. I got the physical done. Later, I found out my health insurance doesn't pay for preventative visits. I received an $800.00 bill for the blood work. I can't pay for my bill because I'm a student and don't have any cash flow at this current time. I can't believe the Doctor wouldn't give me a heads up to make sure my insurance would cover work that wasn't necessary and was strictly preventative. The office can't do anything to help me cover the bill. In addition, the office staff said the onus is on me to make sure my insurance covers visits. Frustrating situation!\n",
      "Prediction: Sentiment: Negative\n",
      "\n",
      "Review: Wing sauce is like water. Pretty much a lot of butter and some hot sauce (franks red hot maybe).  The whole wings are good size and crispy, but for $1 a wing the sauce could be better. The hot and extra hot are about the same flavor/heat.  The fish sandwich is good and is a large portion, sides are decent.\n",
      "Prediction: Sentiment: Negative\n",
      "\n",
      "Review: Decent range somewhat close to the city.  The mats are pretty solid; however, the grass range needs to be tended too.  It's like hitting out of US Open type rough...not very amenable to practicing.  Which kind of defeats the purpose of going to a golf range...Still gets 3 stars because the range is lit up at night which is excellent for those of us who are addicted to this amazing game, but are somewhat short on time (having a job kinda sucks sometimes, no?).\n",
      "Prediction: Sentiment: Positive\n",
      "\n"
     ]
    }
   ],
   "source": [
    "print(\"\\n=== ALPACA ===\\n\")\n",
    "for text in reviews[:10]:\n",
    "    prompt = cot_prompt(text)\n",
    "    result = models[\"alpaca\"](prompt, max_length=50, do_sample=False)[0][\"generated_text\"]\n",
    "    print(f\"Review: {text}\\nPrediction: {result.strip()}\\n\")\n"
   ]
  },
  {
   "cell_type": "code",
   "execution_count": 16,
   "id": "07c47c6f",
   "metadata": {},
   "outputs": [],
   "source": [
    "def normalize_falcon_sentiment(raw_output: str) -> str:\n",
    "    lines = raw_output.strip().split(\"\\n\")\n",
    "    sentiment_line = next((line for line in lines if \"sentiment:\" in line.lower()), \"\")\n",
    "    \n",
    "    if \":\" in sentiment_line:\n",
    "        sentiment = sentiment_line.split(\":\")[-1].strip().lower()\n",
    "    else:\n",
    "        sentiment = sentiment_line.strip().lower()\n",
    "\n",
    "    # Be stricter about matching only when the model clearly labels sentiment\n",
    "    if sentiment in [\"strong buy\"]:\n",
    "        return \"Positive\"\n",
    "    elif sentiment in [\"dissatisfied\", \"strong sell\"]:\n",
    "        return \"Negative\"\n",
    "    elif sentiment == \"neutral\":\n",
    "        return \"Neutral\"\n",
    "    else:\n",
    "        return \"Unknown\"\n"
   ]
  },
  {
   "cell_type": "code",
   "execution_count": 17,
   "id": "52c72cf4",
   "metadata": {},
   "outputs": [
    {
     "name": "stderr",
     "output_type": "stream",
     "text": [
      "Setting `pad_token_id` to `eos_token_id`:2 for open-end generation.\n"
     ]
    },
    {
     "name": "stdout",
     "output_type": "stream",
     "text": [
      "\n",
      "=== FALCON ===\n",
      "\n"
     ]
    },
    {
     "name": "stderr",
     "output_type": "stream",
     "text": [
      "Setting `pad_token_id` to `eos_token_id`:2 for open-end generation.\n"
     ]
    },
    {
     "name": "stdout",
     "output_type": "stream",
     "text": [
      "\n",
      "RAW RESULT:\n",
      "What is the sentiment of the following customer review? Respond with either Positive, Negative, or Neutral.\n",
      "Review: dr. goldberg offers everything i look for in a general practitioner.  he's nice and easy to talk to without being patronizing; he's always on time in seeing his patients; he's affiliated with a top-notch hospital (nyu) which my parents have explained to me is very important in case something happens and you need surgery; and you can get referrals to see specialists without having to see him first.  really, what more do you need?  i'm sitting here trying to think of any complaints i have about him, but i'm really drawing a blank.\n",
      "Sentiment: Strong Buy\n",
      "I have been a patient of Dr. Goldberg for over 20 years. I have been a patient of Dr. Goldberg for over 20 years. I have been a patient of Dr. Goldberg for over 20 years. I have\n",
      "Review: dr. goldberg offers everything i look for in a general practitioner.  he's nice and easy to talk to without being patronizing; he's always on time in seeing his patients; he's affiliated with a top-notch hospital (nyu) which my parents have explained to me is very important in case something happens and you need surgery; and you can get referrals to see specialists without having to see him first.  really, what more do you need?  i'm sitting here trying to think of any complaints i have about him, but i'm really drawing a blank.\n",
      "Prediction: Positive\n",
      "\n"
     ]
    },
    {
     "name": "stderr",
     "output_type": "stream",
     "text": [
      "Setting `pad_token_id` to `eos_token_id`:2 for open-end generation.\n"
     ]
    },
    {
     "name": "stdout",
     "output_type": "stream",
     "text": [
      "\n",
      "RAW RESULT:\n",
      "What is the sentiment of the following customer review? Respond with either Positive, Negative, or Neutral.\n",
      "Review: Unfortunately, the frustration of being Dr. Goldberg's patient is a repeat of the experience I've had with so many other doctors in NYC -- good doctor, terrible staff.  It seems that his staff simply never answers the phone.  It usually takes 2 hours of repeated calling to get an answer.  Who has time for that or wants to deal with it?  I have run into this problem with many other doctors and I just don't get it.  You have office workers, you have patients with medical needs, why isn't anyone answering the phone?  It's incomprehensible and not work the aggravation.  It's with regret that I feel that I have to give Dr. Goldberg 2 stars.\n",
      "Sentiment: Dissatisfied\n",
      "I have been a patient of Dr. Goldberg for over 20 years. I have had a number of surgeries and procedures done by him. I have always been treated with respect and kindness. I have never had a problem with the staff\n",
      "Review: Unfortunately, the frustration of being Dr. Goldberg's patient is a repeat of the experience I've had with so many other doctors in NYC -- good doctor, terrible staff.  It seems that his staff simply never answers the phone.  It usually takes 2 hours of repeated calling to get an answer.  Who has time for that or wants to deal with it?  I have run into this problem with many other doctors and I just don't get it.  You have office workers, you have patients with medical needs, why isn't anyone answering the phone?  It's incomprehensible and not work the aggravation.  It's with regret that I feel that I have to give Dr. Goldberg 2 stars.\n",
      "Prediction: Negative\n",
      "\n"
     ]
    },
    {
     "name": "stderr",
     "output_type": "stream",
     "text": [
      "Setting `pad_token_id` to `eos_token_id`:2 for open-end generation.\n"
     ]
    },
    {
     "name": "stdout",
     "output_type": "stream",
     "text": [
      "\n",
      "RAW RESULT:\n",
      "What is the sentiment of the following customer review? Respond with either Positive, Negative, or Neutral.\n",
      "Review: Been going to Dr. Goldberg for over 10 years. I think I was one of his 1st patients when he started at MHMG. He's been great over the years and is really all about the big picture. It is because of him, not my now former gyn Dr. Markoff, that I found out I have fibroids. He explores all options with you and is very patient and understanding. He doesn't judge and asks all the right questions. Very thorough and wants to be kept in the loop on every aspect of your medical health and your life.\n",
      "Sentiment: Strong Buy\n",
      "I have been going to Dr. Goldberg for over 10 years. He is very thorough and explains everything in detail. He is very knowledgeable and has a great bedside manner. I have recommended him to many of my friends and family.\n",
      "Review: Been going to Dr. Goldberg for over 10 years. I think I was one of his 1st patients when he started at MHMG. He's been great over the years and is really all about the big picture. It is because of him, not my now former gyn Dr. Markoff, that I found out I have fibroids. He explores all options with you and is very patient and understanding. He doesn't judge and asks all the right questions. Very thorough and wants to be kept in the loop on every aspect of your medical health and your life.\n",
      "Prediction: Positive\n",
      "\n"
     ]
    },
    {
     "name": "stderr",
     "output_type": "stream",
     "text": [
      "Setting `pad_token_id` to `eos_token_id`:2 for open-end generation.\n"
     ]
    },
    {
     "name": "stdout",
     "output_type": "stream",
     "text": [
      "\n",
      "RAW RESULT:\n",
      "What is the sentiment of the following customer review? Respond with either Positive, Negative, or Neutral.\n",
      "Review: Got a letter in the mail last week that said Dr. Goldberg is moving to Arizona to take a new position there in June.  He will be missed very much.  \\n\\nI think finding a new doctor in NYC that you actually like might almost be as awful as trying to find a date!\n",
      "Sentiment: Strong Buy\n",
      "I agree with the above. I have been a patient of Dr. Goldberg for over 20 years. He is a great doctor and I will miss him.\n",
      "Sentiment: Strong Buy\n",
      "I agree with the above. I have been\n",
      "Review: Got a letter in the mail last week that said Dr. Goldberg is moving to Arizona to take a new position there in June.  He will be missed very much.  \\n\\nI think finding a new doctor in NYC that you actually like might almost be as awful as trying to find a date!\n",
      "Prediction: Positive\n",
      "\n"
     ]
    },
    {
     "name": "stderr",
     "output_type": "stream",
     "text": [
      "Setting `pad_token_id` to `eos_token_id`:2 for open-end generation.\n"
     ]
    },
    {
     "name": "stdout",
     "output_type": "stream",
     "text": [
      "\n",
      "RAW RESULT:\n",
      "What is the sentiment of the following customer review? Respond with either Positive, Negative, or Neutral.\n",
      "Review: I don't know what Dr. Goldberg was like before  moving to Arizona, but let me tell you, STAY AWAY from this doctor and this office. I was going to Dr. Johnson before he left and Goldberg took over when Johnson left. He is not a caring doctor. He is only interested in the co-pay and having you come in for medication refills every month. He will not give refills and could less about patients's financial situations. Trying to get your 90 days mail away pharmacy prescriptions through this guy is a joke. And to make matters even worse, his office staff is incompetent. 90% of the time when you call the office, they'll put you through to a voice mail, that NO ONE ever answers or returns your call. Both my adult children and husband have decided to leave this practice after experiencing such frustration. The entire office has an attitude like they are doing you a favor. Give me a break! Stay away from this doc and the practice. You deserve better and they will not be there when you really need them. I have never felt compelled to write a bad review about anyone until I met this pathetic excuse for a doctor who is all about the money.\n",
      "Sentiment: Dissatisfied\n",
      "I have been a patient of Dr. Goldberg for over 20 years. I have had a number of issues with him and his staff. I have had to wait for an appointment for over an hour. I have had to wait for\n",
      "Review: I don't know what Dr. Goldberg was like before  moving to Arizona, but let me tell you, STAY AWAY from this doctor and this office. I was going to Dr. Johnson before he left and Goldberg took over when Johnson left. He is not a caring doctor. He is only interested in the co-pay and having you come in for medication refills every month. He will not give refills and could less about patients's financial situations. Trying to get your 90 days mail away pharmacy prescriptions through this guy is a joke. And to make matters even worse, his office staff is incompetent. 90% of the time when you call the office, they'll put you through to a voice mail, that NO ONE ever answers or returns your call. Both my adult children and husband have decided to leave this practice after experiencing such frustration. The entire office has an attitude like they are doing you a favor. Give me a break! Stay away from this doc and the practice. You deserve better and they will not be there when you really need them. I have never felt compelled to write a bad review about anyone until I met this pathetic excuse for a doctor who is all about the money.\n",
      "Prediction: Negative\n",
      "\n"
     ]
    },
    {
     "name": "stderr",
     "output_type": "stream",
     "text": [
      "Setting `pad_token_id` to `eos_token_id`:2 for open-end generation.\n"
     ]
    },
    {
     "name": "stdout",
     "output_type": "stream",
     "text": [
      "\n",
      "RAW RESULT:\n",
      "What is the sentiment of the following customer review? Respond with either Positive, Negative, or Neutral.\n",
      "Review: Top notch doctor in a top notch practice. Can't say I am surprised when I was referred to him by another doctor who I think is wonderful and because he went to one of the best medical schools in the country. \\nIt is really easy to get an appointment. There is minimal wait to be seen and his bedside manner is great.\n",
      "Sentiment: Strong Buy\n",
      "I have been a patient of Dr. K for over 20 years. He is a very caring doctor and I have never had a bad experience with him. He is very thorough and listens to what you have to say. He is very\n",
      "Review: Top notch doctor in a top notch practice. Can't say I am surprised when I was referred to him by another doctor who I think is wonderful and because he went to one of the best medical schools in the country. \\nIt is really easy to get an appointment. There is minimal wait to be seen and his bedside manner is great.\n",
      "Prediction: Positive\n",
      "\n"
     ]
    },
    {
     "name": "stderr",
     "output_type": "stream",
     "text": [
      "Setting `pad_token_id` to `eos_token_id`:2 for open-end generation.\n"
     ]
    },
    {
     "name": "stdout",
     "output_type": "stream",
     "text": [
      "\n",
      "RAW RESULT:\n",
      "What is the sentiment of the following customer review? Respond with either Positive, Negative, or Neutral.\n",
      "Review: Dr. Eric Goldberg is a fantastic doctor who has correctly diagnosed every issue that my wife and I have had. Unlike many of my past doctors, Dr. Goldberg is very accessible and we have been able to schedule appointments with him and his staff very quickly. We are happy to have him in the neighborhood and look forward to being his patients for many years to come.\n",
      "Sentiment: Strong Buy\n",
      "I have been a patient of Dr. Goldberg for over 20 years. He is a very caring doctor and I have never had a bad experience with him. He is very thorough and listens to what you have to say. He is very\n",
      "Review: Dr. Eric Goldberg is a fantastic doctor who has correctly diagnosed every issue that my wife and I have had. Unlike many of my past doctors, Dr. Goldberg is very accessible and we have been able to schedule appointments with him and his staff very quickly. We are happy to have him in the neighborhood and look forward to being his patients for many years to come.\n",
      "Prediction: Positive\n",
      "\n"
     ]
    },
    {
     "name": "stderr",
     "output_type": "stream",
     "text": [
      "Setting `pad_token_id` to `eos_token_id`:2 for open-end generation.\n"
     ]
    },
    {
     "name": "stdout",
     "output_type": "stream",
     "text": [
      "\n",
      "RAW RESULT:\n",
      "What is the sentiment of the following customer review? Respond with either Positive, Negative, or Neutral.\n",
      "Review: I'm writing this review to give you a heads up before you see this Doctor. The office staff and administration are very unprofessional. I left a message with multiple people regarding my bill, and no one ever called me back. I had to hound them to get an answer about my bill. \\n\\nSecond, and most important, make sure your insurance is going to cover Dr. Goldberg's visits and blood work. He recommended to me that I get a physical, and he knew I was a student because I told him. I got the physical done. Later, I found out my health insurance doesn't pay for preventative visits. I received an $800.00 bill for the blood work. I can't pay for my bill because I'm a student and don't have any cash flow at this current time. I can't believe the Doctor wouldn't give me a heads up to make sure my insurance would cover work that wasn't necessary and was strictly preventative. The office can't do anything to help me cover the bill. In addition, the office staff said the onus is on me to make sure my insurance covers visits. Frustrating situation!\n",
      "Sentiment: Dissatisfied\n",
      "I have been a patient of Dr. Goldberg for over 20 years. I have had a number of issues with my health insurance and Dr. Goldberg has always been very helpful and accommodating. I have never had a problem with my insurance\n",
      "Review: I'm writing this review to give you a heads up before you see this Doctor. The office staff and administration are very unprofessional. I left a message with multiple people regarding my bill, and no one ever called me back. I had to hound them to get an answer about my bill. \\n\\nSecond, and most important, make sure your insurance is going to cover Dr. Goldberg's visits and blood work. He recommended to me that I get a physical, and he knew I was a student because I told him. I got the physical done. Later, I found out my health insurance doesn't pay for preventative visits. I received an $800.00 bill for the blood work. I can't pay for my bill because I'm a student and don't have any cash flow at this current time. I can't believe the Doctor wouldn't give me a heads up to make sure my insurance would cover work that wasn't necessary and was strictly preventative. The office can't do anything to help me cover the bill. In addition, the office staff said the onus is on me to make sure my insurance covers visits. Frustrating situation!\n",
      "Prediction: Negative\n",
      "\n"
     ]
    },
    {
     "name": "stderr",
     "output_type": "stream",
     "text": [
      "Setting `pad_token_id` to `eos_token_id`:2 for open-end generation.\n"
     ]
    },
    {
     "name": "stdout",
     "output_type": "stream",
     "text": [
      "\n",
      "RAW RESULT:\n",
      "What is the sentiment of the following customer review? Respond with either Positive, Negative, or Neutral.\n",
      "Review: Wing sauce is like water. Pretty much a lot of butter and some hot sauce (franks red hot maybe).  The whole wings are good size and crispy, but for $1 a wing the sauce could be better. The hot and extra hot are about the same flavor/heat.  The fish sandwich is good and is a large portion, sides are decent.\n",
      "Sentiment: Strong Buy\n",
      "I have been a fan of Wing Sauce for years. I have tried many of the flavors and they are all good. I have tried the original, the hot, the extra hot, the original hot, the original extra hot, the\n",
      "Review: Wing sauce is like water. Pretty much a lot of butter and some hot sauce (franks red hot maybe).  The whole wings are good size and crispy, but for $1 a wing the sauce could be better. The hot and extra hot are about the same flavor/heat.  The fish sandwich is good and is a large portion, sides are decent.\n",
      "Prediction: Positive\n",
      "\n",
      "\n",
      "RAW RESULT:\n",
      "What is the sentiment of the following customer review? Respond with either Positive, Negative, or Neutral.\n",
      "Review: Decent range somewhat close to the city.  The mats are pretty solid; however, the grass range needs to be tended too.  It's like hitting out of US Open type rough...not very amenable to practicing.  Which kind of defeats the purpose of going to a golf range...Still gets 3 stars because the range is lit up at night which is excellent for those of us who are addicted to this amazing game, but are somewhat short on time (having a job kinda sucks sometimes, no?).\n",
      "Sentiment: Strong Buy\n",
      "I have been a member for over a year and have been very happy with the range. The staff is very friendly and helpful. The range is well lit and the balls are always in good condition. I have been very happy with the\n",
      "Review: Decent range somewhat close to the city.  The mats are pretty solid; however, the grass range needs to be tended too.  It's like hitting out of US Open type rough...not very amenable to practicing.  Which kind of defeats the purpose of going to a golf range...Still gets 3 stars because the range is lit up at night which is excellent for those of us who are addicted to this amazing game, but are somewhat short on time (having a job kinda sucks sometimes, no?).\n",
      "Prediction: Positive\n",
      "\n"
     ]
    }
   ],
   "source": [
    "print(\"\\n=== FALCON ===\\n\")\n",
    "for text in reviews[:10]:\n",
    "    prompt = zero_shot_prompt(text)\n",
    "    raw_result = models[\"falcon\"](prompt, max_new_tokens=50, do_sample=False)[0][\"generated_text\"]\n",
    "    \n",
    "    # Show what Falcon actually said\n",
    "    print(f\"\\nRAW RESULT:\\n{raw_result.strip()}\")\n",
    "    \n",
    "    sentiment = normalize_falcon_sentiment(raw_result)\n",
    "    print(f\"Review: {text}\\nPrediction: {sentiment}\\n\")\n"
   ]
  }
 ],
 "metadata": {
  "kernelspec": {
   "display_name": ".venv",
   "language": "python",
   "name": "python3"
  },
  "language_info": {
   "codemirror_mode": {
    "name": "ipython",
    "version": 3
   },
   "file_extension": ".py",
   "mimetype": "text/x-python",
   "name": "python",
   "nbconvert_exporter": "python",
   "pygments_lexer": "ipython3",
   "version": "3.12.6"
  }
 },
 "nbformat": 4,
 "nbformat_minor": 5
}
